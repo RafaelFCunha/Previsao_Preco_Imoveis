{
 "cells": [
  {
   "cell_type": "markdown",
   "metadata": {
    "id": "AsDydV59EnBQ"
   },
   "source": [
    "## Aprendizagem de máquina\n",
    "\n",
    "### Objetivos\n",
    "\n",
    "  - Avaliar os conceitos de aprendizado de maquina aprendidos no curso\n"
   ]
  },
  {
   "cell_type": "markdown",
   "metadata": {
    "id": "_41x3wQMEnBY"
   },
   "source": [
    "# Desafio\n",
    "\n",
    "Você foi contratado por uma empresa inovadora do ramo imobiliario como `QuintoAndar, Loft, Terraz, grupo Zap (ZAP, Viva Real, DataZAP, FipeZAP, SuaHouse, Geoimóvel, Sub100 e Conecta Imobi) ou Imobi Conference`. O seu desafio está no apio à tomada de decisão baseada em dados (empresa data driven). \n",
    "\n",
    "Nesse sentido, use a base de dados **aptos.csv** para realizar a descoberta do conhecimento e responder a pergunta: \n",
    "\n",
    "**`Quanto vale um apartamento de 65m2 com 2 quartos, 2 vagas, reformado no Centro?`**\n"
   ]
  },
  {
   "cell_type": "markdown",
   "metadata": {
    "id": "CTGvPWQZEnBZ"
   },
   "source": [
    "### Orientações\n",
    "\n",
    "Siga as instruções, completando e construindo os algoritmos necessários.\n",
    "\n",
    "Nas celulas` Seu Código aqui...` significa que é necessário realizar a implementação de algum código. Utilize quantos blocos(células) julgar necessário para criar o código.\n",
    "\n",
    "Nas celulas `Responda` significa que é nessário uma resposta clara e objetiva (pode ser por texto, código, gráfico, imagem...) para a pergunta."
   ]
  },
  {
   "cell_type": "markdown",
   "metadata": {
    "id": "XemQnDtgEnBa"
   },
   "source": [
    "## Rubrica para avaliação\n",
    "    \n",
    "Os critérios de avaliação do projeto segue conforme a rubrica.\n",
    "\n",
    "- R1: Exploração de Dados (Até 2 pontos)\n",
    "- R2: Análise Descritiva de Dados (Até 2 pontos)\n",
    "- R3: Desenvolvimento do Modelo (Até 2 pontos)\n",
    "- R4: Treinamento e Teste do Modelo (Até 2 pontos)\n",
    "- R5: Conclusões Finais (Até 2 pontos)\n",
    "\n",
    "**Nota_final = R1 + R2 + R3 + R4 + R5**"
   ]
  },
  {
   "cell_type": "markdown",
   "metadata": {
    "id": "Jrw76pbZEnBb"
   },
   "source": [
    "# 1. Exploração de Dados\n",
    "\n",
    "Carregue o dataset e faça uma inspeção nas 15 primeiras linhas para identificação básica dos atributos.\n"
   ]
  },
  {
   "cell_type": "code",
   "execution_count": 21,
   "metadata": {
    "id": "eboasUCqEnBc"
   },
   "outputs": [],
   "source": [
    "# Inicializção das bibliotecas\n",
    "import seaborn as sns\n",
    "import matplotlib.pyplot as plt\n",
    "import pandas as pd\n",
    "import numpy as np\n",
    "\n",
    "%matplotlib inline"
   ]
  },
  {
   "cell_type": "code",
   "execution_count": 22,
   "metadata": {
    "colab": {
     "base_uri": "https://localhost:8080/",
     "height": 745
    },
    "id": "7v12O1ZgEnBe",
    "outputId": "ed8b048b-7d21-4e06-8b83-96594c4c86dd"
   },
   "outputs": [
    {
     "name": "stdout",
     "output_type": "stream",
     "text": [
      "<class 'pandas.core.frame.DataFrame'>\n",
      "RangeIndex: 100 entries, 0 to 99\n",
      "Data columns (total 6 columns):\n",
      " #   Column     Non-Null Count  Dtype \n",
      "---  ------     --------------  ----- \n",
      " 0   metros     100 non-null    int64 \n",
      " 1   valor      100 non-null    int64 \n",
      " 2   quartos    100 non-null    int64 \n",
      " 3   vagas      100 non-null    int64 \n",
      " 4   reformado  100 non-null    int64 \n",
      " 5   bairro     100 non-null    object\n",
      "dtypes: int64(5), object(1)\n",
      "memory usage: 4.8+ KB\n"
     ]
    },
    {
     "data": {
      "text/html": [
       "<div>\n",
       "<style scoped>\n",
       "    .dataframe tbody tr th:only-of-type {\n",
       "        vertical-align: middle;\n",
       "    }\n",
       "\n",
       "    .dataframe tbody tr th {\n",
       "        vertical-align: top;\n",
       "    }\n",
       "\n",
       "    .dataframe thead th {\n",
       "        text-align: right;\n",
       "    }\n",
       "</style>\n",
       "<table border=\"1\" class=\"dataframe\">\n",
       "  <thead>\n",
       "    <tr style=\"text-align: right;\">\n",
       "      <th></th>\n",
       "      <th>metros</th>\n",
       "      <th>valor</th>\n",
       "      <th>quartos</th>\n",
       "      <th>vagas</th>\n",
       "      <th>reformado</th>\n",
       "      <th>bairro</th>\n",
       "    </tr>\n",
       "  </thead>\n",
       "  <tbody>\n",
       "    <tr>\n",
       "      <th>0</th>\n",
       "      <td>107</td>\n",
       "      <td>560</td>\n",
       "      <td>3</td>\n",
       "      <td>2</td>\n",
       "      <td>0</td>\n",
       "      <td>Vila Lusitania</td>\n",
       "    </tr>\n",
       "    <tr>\n",
       "      <th>1</th>\n",
       "      <td>107</td>\n",
       "      <td>555</td>\n",
       "      <td>3</td>\n",
       "      <td>2</td>\n",
       "      <td>1</td>\n",
       "      <td>Vila Lusitania</td>\n",
       "    </tr>\n",
       "    <tr>\n",
       "      <th>2</th>\n",
       "      <td>49</td>\n",
       "      <td>196</td>\n",
       "      <td>2</td>\n",
       "      <td>1</td>\n",
       "      <td>0</td>\n",
       "      <td>Ferrazopolis</td>\n",
       "    </tr>\n",
       "    <tr>\n",
       "      <th>3</th>\n",
       "      <td>104</td>\n",
       "      <td>515</td>\n",
       "      <td>3</td>\n",
       "      <td>2</td>\n",
       "      <td>1</td>\n",
       "      <td>Centro</td>\n",
       "    </tr>\n",
       "    <tr>\n",
       "      <th>4</th>\n",
       "      <td>92</td>\n",
       "      <td>560</td>\n",
       "      <td>3</td>\n",
       "      <td>2</td>\n",
       "      <td>1</td>\n",
       "      <td>Vila Lusitania</td>\n",
       "    </tr>\n",
       "    <tr>\n",
       "      <th>5</th>\n",
       "      <td>51</td>\n",
       "      <td>249</td>\n",
       "      <td>2</td>\n",
       "      <td>1</td>\n",
       "      <td>0</td>\n",
       "      <td>Taboao</td>\n",
       "    </tr>\n",
       "    <tr>\n",
       "      <th>6</th>\n",
       "      <td>140</td>\n",
       "      <td>635</td>\n",
       "      <td>4</td>\n",
       "      <td>3</td>\n",
       "      <td>1</td>\n",
       "      <td>Centro</td>\n",
       "    </tr>\n",
       "    <tr>\n",
       "      <th>7</th>\n",
       "      <td>50</td>\n",
       "      <td>210</td>\n",
       "      <td>2</td>\n",
       "      <td>1</td>\n",
       "      <td>1</td>\n",
       "      <td>Demarchi</td>\n",
       "    </tr>\n",
       "    <tr>\n",
       "      <th>8</th>\n",
       "      <td>93</td>\n",
       "      <td>450</td>\n",
       "      <td>3</td>\n",
       "      <td>2</td>\n",
       "      <td>0</td>\n",
       "      <td>Baeta Neves</td>\n",
       "    </tr>\n",
       "    <tr>\n",
       "      <th>9</th>\n",
       "      <td>107</td>\n",
       "      <td>425</td>\n",
       "      <td>3</td>\n",
       "      <td>2</td>\n",
       "      <td>1</td>\n",
       "      <td>Rudge Ramos</td>\n",
       "    </tr>\n",
       "    <tr>\n",
       "      <th>10</th>\n",
       "      <td>100</td>\n",
       "      <td>422</td>\n",
       "      <td>3</td>\n",
       "      <td>2</td>\n",
       "      <td>1</td>\n",
       "      <td>Baeta Neves</td>\n",
       "    </tr>\n",
       "    <tr>\n",
       "      <th>11</th>\n",
       "      <td>64</td>\n",
       "      <td>250</td>\n",
       "      <td>2</td>\n",
       "      <td>1</td>\n",
       "      <td>1</td>\n",
       "      <td>Pauliceia</td>\n",
       "    </tr>\n",
       "    <tr>\n",
       "      <th>12</th>\n",
       "      <td>65</td>\n",
       "      <td>350</td>\n",
       "      <td>2</td>\n",
       "      <td>2</td>\n",
       "      <td>1</td>\n",
       "      <td>Centro</td>\n",
       "    </tr>\n",
       "    <tr>\n",
       "      <th>13</th>\n",
       "      <td>71</td>\n",
       "      <td>303</td>\n",
       "      <td>3</td>\n",
       "      <td>1</td>\n",
       "      <td>0</td>\n",
       "      <td>Centro</td>\n",
       "    </tr>\n",
       "    <tr>\n",
       "      <th>14</th>\n",
       "      <td>64</td>\n",
       "      <td>294</td>\n",
       "      <td>3</td>\n",
       "      <td>1</td>\n",
       "      <td>0</td>\n",
       "      <td>Planalto</td>\n",
       "    </tr>\n",
       "  </tbody>\n",
       "</table>\n",
       "</div>"
      ],
      "text/plain": [
       "    metros  valor  quartos  vagas  reformado          bairro\n",
       "0      107    560        3      2          0  Vila Lusitania\n",
       "1      107    555        3      2          1  Vila Lusitania\n",
       "2       49    196        2      1          0    Ferrazopolis\n",
       "3      104    515        3      2          1          Centro\n",
       "4       92    560        3      2          1  Vila Lusitania\n",
       "5       51    249        2      1          0          Taboao\n",
       "6      140    635        4      3          1          Centro\n",
       "7       50    210        2      1          1        Demarchi\n",
       "8       93    450        3      2          0     Baeta Neves\n",
       "9      107    425        3      2          1     Rudge Ramos\n",
       "10     100    422        3      2          1     Baeta Neves\n",
       "11      64    250        2      1          1       Pauliceia\n",
       "12      65    350        2      2          1          Centro\n",
       "13      71    303        3      1          0          Centro\n",
       "14      64    294        3      1          0        Planalto"
      ]
     },
     "execution_count": 22,
     "metadata": {},
     "output_type": "execute_result"
    }
   ],
   "source": [
    "#Seu Código aqui....\n",
    "\n",
    "#Carregando base de dados\n",
    "df = pd.read_csv('aptos.csv')\n",
    "\n",
    "#Verificando informações sobre o dataset\n",
    "df.info()\n",
    "#Verificando se o dataset foi carregado com êxito\n",
    "df.head(15)"
   ]
  },
  {
   "cell_type": "code",
   "execution_count": 23,
   "metadata": {
    "colab": {
     "base_uri": "https://localhost:8080/"
    },
    "id": "7KMUo_9qrpj5",
    "outputId": "19ea58d9-950b-4ab6-d585-9c91e3047de7"
   },
   "outputs": [
    {
     "data": {
      "text/plain": [
       "(100, 6)"
      ]
     },
     "execution_count": 23,
     "metadata": {},
     "output_type": "execute_result"
    }
   ],
   "source": [
    "#Analisando quantidades de linhas e colunas do dataset\n",
    "df.shape"
   ]
  },
  {
   "cell_type": "code",
   "execution_count": 24,
   "metadata": {
    "colab": {
     "base_uri": "https://localhost:8080/",
     "height": 297
    },
    "id": "m5xw4Q7RrplJ",
    "outputId": "ad1eac86-cbab-424a-8a1b-f78d8de6bbd7"
   },
   "outputs": [
    {
     "data": {
      "text/html": [
       "<div>\n",
       "<style scoped>\n",
       "    .dataframe tbody tr th:only-of-type {\n",
       "        vertical-align: middle;\n",
       "    }\n",
       "\n",
       "    .dataframe tbody tr th {\n",
       "        vertical-align: top;\n",
       "    }\n",
       "\n",
       "    .dataframe thead th {\n",
       "        text-align: right;\n",
       "    }\n",
       "</style>\n",
       "<table border=\"1\" class=\"dataframe\">\n",
       "  <thead>\n",
       "    <tr style=\"text-align: right;\">\n",
       "      <th></th>\n",
       "      <th>metros</th>\n",
       "      <th>valor</th>\n",
       "      <th>quartos</th>\n",
       "      <th>vagas</th>\n",
       "      <th>reformado</th>\n",
       "    </tr>\n",
       "  </thead>\n",
       "  <tbody>\n",
       "    <tr>\n",
       "      <th>count</th>\n",
       "      <td>100.000000</td>\n",
       "      <td>100.00000</td>\n",
       "      <td>100.000000</td>\n",
       "      <td>100.000000</td>\n",
       "      <td>100.000000</td>\n",
       "    </tr>\n",
       "    <tr>\n",
       "      <th>mean</th>\n",
       "      <td>80.280000</td>\n",
       "      <td>402.93000</td>\n",
       "      <td>2.590000</td>\n",
       "      <td>1.650000</td>\n",
       "      <td>0.540000</td>\n",
       "    </tr>\n",
       "    <tr>\n",
       "      <th>std</th>\n",
       "      <td>27.606206</td>\n",
       "      <td>171.43154</td>\n",
       "      <td>0.552222</td>\n",
       "      <td>0.687184</td>\n",
       "      <td>0.500908</td>\n",
       "    </tr>\n",
       "    <tr>\n",
       "      <th>min</th>\n",
       "      <td>43.000000</td>\n",
       "      <td>188.00000</td>\n",
       "      <td>2.000000</td>\n",
       "      <td>0.000000</td>\n",
       "      <td>0.000000</td>\n",
       "    </tr>\n",
       "    <tr>\n",
       "      <th>25%</th>\n",
       "      <td>56.750000</td>\n",
       "      <td>258.00000</td>\n",
       "      <td>2.000000</td>\n",
       "      <td>1.000000</td>\n",
       "      <td>0.000000</td>\n",
       "    </tr>\n",
       "    <tr>\n",
       "      <th>50%</th>\n",
       "      <td>72.000000</td>\n",
       "      <td>355.00000</td>\n",
       "      <td>3.000000</td>\n",
       "      <td>2.000000</td>\n",
       "      <td>1.000000</td>\n",
       "    </tr>\n",
       "    <tr>\n",
       "      <th>75%</th>\n",
       "      <td>100.000000</td>\n",
       "      <td>515.00000</td>\n",
       "      <td>3.000000</td>\n",
       "      <td>2.000000</td>\n",
       "      <td>1.000000</td>\n",
       "    </tr>\n",
       "    <tr>\n",
       "      <th>max</th>\n",
       "      <td>199.000000</td>\n",
       "      <td>880.00000</td>\n",
       "      <td>4.000000</td>\n",
       "      <td>4.000000</td>\n",
       "      <td>1.000000</td>\n",
       "    </tr>\n",
       "  </tbody>\n",
       "</table>\n",
       "</div>"
      ],
      "text/plain": [
       "           metros      valor     quartos       vagas   reformado\n",
       "count  100.000000  100.00000  100.000000  100.000000  100.000000\n",
       "mean    80.280000  402.93000    2.590000    1.650000    0.540000\n",
       "std     27.606206  171.43154    0.552222    0.687184    0.500908\n",
       "min     43.000000  188.00000    2.000000    0.000000    0.000000\n",
       "25%     56.750000  258.00000    2.000000    1.000000    0.000000\n",
       "50%     72.000000  355.00000    3.000000    2.000000    1.000000\n",
       "75%    100.000000  515.00000    3.000000    2.000000    1.000000\n",
       "max    199.000000  880.00000    4.000000    4.000000    1.000000"
      ]
     },
     "execution_count": 24,
     "metadata": {},
     "output_type": "execute_result"
    }
   ],
   "source": [
    "#Analisando informações matemáticas do dataset\n",
    "df.describe()"
   ]
  },
  {
   "cell_type": "markdown",
   "metadata": {
    "id": "Vwok27kVEnBf"
   },
   "source": [
    "### `Pergunta:` Apresente uma breve descrição do significado de cada atributo:\n",
    "\n",
    "Exemplo:\n",
    "- Idade: Idade em anos da pessoa\n",
    "- Marca: fabricante de carros\n",
    "- Combustivel: tipo de combustível (gasolina, disel...)\n",
    "- Especie: Tipo de flor iris-setosa, virginica... (Variável Alvo)\n",
    "\n",
    "\n",
    "\n",
    "\n"
   ]
  },
  {
   "cell_type": "markdown",
   "metadata": {
    "id": "S48qZORfEnBg"
   },
   "source": [
    "**Resposta:**\n",
    "\n",
    "-   **metros:**    Tamanho em metros quadrado do imovel\n",
    "\n",
    "-   **valor:**     Valor em reais por m2(metro quadrado) do imóvel\n",
    "\n",
    "-   **quartos:**   Quantidade de quartos por imóvel \n",
    "\n",
    "-   **vagas:**     Quantidade de vagas por \n",
    "\n",
    "-   **reformado**: Atributo para identificar se o imóvel esta reformado ou não, sendo 1 para reformado e 0 para não-reformado\n",
    "\n",
    "-   **bairro:**    Local do imóvel\n"
   ]
  },
  {
   "cell_type": "markdown",
   "metadata": {
    "id": "VBQjnm8vEnBh"
   },
   "source": [
    "**Pergunta:** Cite 2 cenários que podem fazer sentido na leitura dos dados apresentados.\n",
    "\n",
    "Exemplo: \n",
    "- Eu acho que o preço da gasolina sobe com o preço do petróleo. \n",
    "- Eu acho que na média homens são mais altos que mulheres na mesma faixa etaria.  "
   ]
  },
  {
   "cell_type": "markdown",
   "metadata": {
    "id": "Zp80G6hHEnBi"
   },
   "source": [
    "**Resposta:**\n",
    "\n",
    "1. - Analisando rapidamente o dataset, percebemos que de acordo com a região(bairro) o preço do metro quadrado pode ou não aumentar\n",
    "\n",
    "2.  - Podemos dizer que a média de metros quadrados é de 80 e que o valor médio de um apartamento com 80 metros quadrados é de 402 mil aproximadamente"
   ]
  },
  {
   "cell_type": "markdown",
   "metadata": {
    "id": "VlNUKBMgEnBj"
   },
   "source": [
    "## 2. Análise descritiva de dados\n",
    "\n",
    "Faça uma análise exploratória dos dados. Utilize-se de gráficos e tabelas auxiliares, faça correlações entre os atributos.... Com o objetivo validar as afirmações levantadas acima."
   ]
  },
  {
   "cell_type": "code",
   "execution_count": 25,
   "metadata": {
    "colab": {
     "base_uri": "https://localhost:8080/",
     "height": 438
    },
    "id": "apflr7fcEnBk",
    "outputId": "17b107d7-28eb-458c-d011-47ca03d9d814"
   },
   "outputs": [
    {
     "data": {
      "image/png": "[encoded data removed]",
      "text/plain": [
       "<Figure size 1080x1080 with 16 Axes>"
      ]
     },
     "metadata": {
      "needs_background": "light"
     },
     "output_type": "display_data"
    }
   ],
   "source": [
    "#Seu Código aqui...\n",
    "\n",
    "#Gráfico do tipo boxplot podemos identificar várias informações, como média, Outliers entre outras.\n",
    "df.plot(kind='box', subplots=True, layout=(4,4), sharex=False, sharey=False, figsize=(15, 15))\n",
    "plt.show()"
   ]
  },
  {
   "cell_type": "code",
   "execution_count": 26,
   "metadata": {
    "colab": {
     "base_uri": "https://localhost:8080/",
     "height": 716
    },
    "id": "9okJsuG5v9v2",
    "outputId": "7bf84dc8-e4af-4202-e4b1-dab5cea54a97"
   },
   "outputs": [
    {
     "data": {
      "image/png": "[encoded data removed]",
      "text/plain": [
       "<Figure size 864x864 with 6 Axes>"
      ]
     },
     "metadata": {
      "needs_background": "light"
     },
     "output_type": "display_data"
    }
   ],
   "source": [
    "#Histogramas são bons para mostrar as frequencia dos dados e analisar os cenários encontrados\n",
    "df.hist(bins=100, figsize=(12, 12))\n",
    "plt.show()"
   ]
  },
  {
   "cell_type": "code",
   "execution_count": 27,
   "metadata": {
    "colab": {
     "base_uri": "https://localhost:8080/",
     "height": 613
    },
    "id": "md1hjlgxEnBk",
    "outputId": "333f7aab-99a0-49a2-cc04-1b587b2bf42e"
   },
   "outputs": [
    {
     "data": {
      "text/plain": [
       "<AxesSubplot:>"
      ]
     },
     "execution_count": 27,
     "metadata": {},
     "output_type": "execute_result"
    },
    {
     "data": {
      "image/png": "[encoded data removed]",
      "text/plain": [
       "<Figure size 720x720 with 2 Axes>"
      ]
     },
     "metadata": {
      "needs_background": "light"
     },
     "output_type": "display_data"
    }
   ],
   "source": [
    "#Seu Código aqui...\n",
    "\n",
    "#Vamos explorar um pouco uma matrix de correlação dos dados\n",
    "\n",
    "import seaborn as sns \n",
    "correlation_matrix = df.corr().round(2)\n",
    "\n",
    "fig, ax = plt.subplots(figsize=(10,10))    \n",
    "sns.heatmap(data=correlation_matrix, annot=True, linewidths=.5, ax=ax)\n"
   ]
  },
  {
   "cell_type": "code",
   "execution_count": 28,
   "metadata": {
    "id": "iU1HIi21yxLP"
   },
   "outputs": [
    {
     "data": {
      "text/plain": [
       "'\\nQual é o target do projeto?\\nR: Valor\\n\\nQual é a feature que possue maior relação positiva com o target?\\nR: Metros\\n\\nQual é a feature que possue maior relação negativa com o target?\\nR: Reformado\\n\\n'"
      ]
     },
     "execution_count": 28,
     "metadata": {},
     "output_type": "execute_result"
    }
   ],
   "source": [
    "'''\n",
    "Qual é o target do projeto?\n",
    "R: Valor\n",
    "\n",
    "Qual é a feature que possue maior relação positiva com o target?\n",
    "R: Metros\n",
    "\n",
    "Qual é a feature que possue maior relação negativa com o target?\n",
    "R: Reformado\n",
    "\n",
    "'''"
   ]
  },
  {
   "cell_type": "code",
   "execution_count": 29,
   "metadata": {
    "colab": {
     "base_uri": "https://localhost:8080/",
     "height": 296
    },
    "id": "HcWkonmN0EW4",
    "outputId": "d0f06852-3898-4356-f6d1-ab867193114d"
   },
   "outputs": [
    {
     "data": {
      "text/plain": [
       "<AxesSubplot:xlabel='metros', ylabel='valor'>"
      ]
     },
     "execution_count": 29,
     "metadata": {},
     "output_type": "execute_result"
    },
    {
     "data": {
      "image/png": "[encoded data removed]",
      "text/plain": [
       "<Figure size 432x288 with 1 Axes>"
      ]
     },
     "metadata": {
      "needs_background": "light"
     },
     "output_type": "display_data"
    }
   ],
   "source": [
    "df.plot.scatter('metros', 'valor')"
   ]
  },
  {
   "cell_type": "code",
   "execution_count": 30,
   "metadata": {
    "colab": {
     "base_uri": "https://localhost:8080/",
     "height": 296
    },
    "id": "SJVvpBTT0EwG",
    "outputId": "8be6bab1-d658-43d8-98ff-dc4e70b64341"
   },
   "outputs": [
    {
     "data": {
      "text/plain": [
       "<AxesSubplot:xlabel='valor', ylabel='reformado'>"
      ]
     },
     "execution_count": 30,
     "metadata": {},
     "output_type": "execute_result"
    },
    {
     "data": {
      "image/png": "[encoded data removed]",
      "text/plain": [
       "<Figure size 432x288 with 1 Axes>"
      ]
     },
     "metadata": {
      "needs_background": "light"
     },
     "output_type": "display_data"
    }
   ],
   "source": [
    "df.plot.scatter('valor', 'reformado')"
   ]
  },
  {
   "cell_type": "markdown",
   "metadata": {
    "id": "QFMnZ_R5EnBl"
   },
   "source": [
    "### __(BONUS: 1 ponto extra.)__ Análise de Outliers\n",
    "*Esse é um ponto extra, faça se quiser...\n",
    "\n",
    "Realize a análise e o tratamento de **outliers**, como referência para estudo:\n",
    "\n",
    "* [link1](https://machinelearningmastery.com/model-based-outlier-detection-and-removal-in-python/)\n",
    "* [link2](https://towardsdatascience.com/4-machine-learning-techniques-for-outlier-detection-in-python-21e9cfacb81d)\n",
    "* [link3](https://minerandodados.com.br/tratando-outliers-python/)\n",
    "\n",
    "**Pergunta:** Foram localizados outliers? Qual o método de análise adotado? Se existe, como os dados foram tratados (foram removidos ou mantidos)? "
   ]
  },
  {
   "cell_type": "code",
   "execution_count": 31,
   "metadata": {
    "colab": {
     "base_uri": "https://localhost:8080/",
     "height": 70
    },
    "id": "z4grSXkLFFm8",
    "outputId": "5ca47a38-e02b-4968-8016-3f6fffa97c59"
   },
   "outputs": [
    {
     "data": {
      "text/plain": [
       "'\\nForam localizados outliers?\\nR:Sim.\\n\\nQual o método de análise adotado?\\nR:Método boxplot para identificar dados fora do padrão. Ao analisar a distrubuição dos dados de metros, vagas e valor foi identificado outliers.\\nEsses outliers representam a venda de um imóvel de alto nível.\\n\\n\\nComo os dados foram tratados(foram removidos ou mantidos)?\\nR:Os outliers foram mantidos pois caso as informações fossem exlucídas, dados de vendas seriam perdidos.\\n'"
      ]
     },
     "execution_count": 31,
     "metadata": {},
     "output_type": "execute_result"
    }
   ],
   "source": [
    "'''\n",
    "Foram localizados outliers?\n",
    "R:Sim.\n",
    "\n",
    "Qual o método de análise adotado?\n",
    "R:Método boxplot para identificar dados fora do padrão. Ao analisar a distrubuição dos dados de metros, vagas e valor foi identificado outliers.\n",
    "Esses outliers representam a venda de um imóvel de alto nível.\n",
    "\n",
    "\n",
    "Como os dados foram tratados(foram removidos ou mantidos)?\n",
    "R:Os outliers foram mantidos pois caso as informações fossem exlucídas, dados de vendas seriam perdidos.\n",
    "'''"
   ]
  },
  {
   "cell_type": "markdown",
   "metadata": {
    "id": "aEBq3jZKEnBl"
   },
   "source": [
    "## 3. Desenvolvimento do Modelo"
   ]
  },
  {
   "cell_type": "markdown",
   "metadata": {
    "id": "wW2R15MjEnBm"
   },
   "source": [
    "**Pergunta:** O conjunto de dados indica a aplicação de qual modelo de aprendizagem de maquina para determinação do valor de um imóvel? Por que ? "
   ]
  },
  {
   "cell_type": "markdown",
   "metadata": {
    "id": "qV22-xMpEnBm"
   },
   "source": [
    "**Resposta:**\n",
    "\n",
    "    [ ] Aprendizado por reforço\n",
    "    [X] Aprendizado supervisionado\n",
    "    [ ] Aprendizado não supervisionado"
   ]
  },
  {
   "cell_type": "markdown",
   "metadata": {
    "id": "oijxNQnWEnBn"
   },
   "source": [
    "**Pergunta:** Qual a técnica sugerida para este projeto?"
   ]
  },
  {
   "cell_type": "markdown",
   "metadata": {
    "id": "7gfXFr3cEnBn"
   },
   "source": [
    "**Resposta:**\n",
    "\n",
    "    [X] Regressão\n",
    "    [ ] Classificação\n",
    "    [ ] Clusterização"
   ]
  },
  {
   "cell_type": "markdown",
   "metadata": {
    "id": "GCNZREN8EnBn"
   },
   "source": [
    "**Pergunta:** Escolha 2 modelos de algoritmos para testar a performance de cada um deles."
   ]
  },
  {
   "cell_type": "markdown",
   "metadata": {
    "id": "-JaS9wt1EnBo"
   },
   "source": [
    "**Resposta:**\n",
    "\n",
    "1. algoritimo **RandomForest**  \n",
    "2. algoritimo **LinearRegression**"
   ]
  },
  {
   "cell_type": "markdown",
   "metadata": {
    "id": "xwiwcazSEnBo"
   },
   "source": [
    "__(BONUS: 1 ponto extra.)__ **Pergunta:** Explique como cada algoritmo funciona.\n"
   ]
  },
  {
   "cell_type": "markdown",
   "metadata": {
    "id": "3d2zeM5MEnBo"
   },
   "source": [
    "**Resposta:**\n",
    "\n",
    "1. algoritimo RandomForest: Analisa um conjunto de árvores de decisão para encontrar qual o melhor caminho a se seguir com base em probabilidades encontradas em um conjunto de dados, onde os \"nós\" das árvores são criados a partir das features do modelo para dar suporte a tomada de decisão ao prever o valor da variável target.\n",
    "\n",
    "\n",
    "2. algoritimo LinearRegression: Utilizado para prever/estimar o melhor \"peso\" valor de uma target, de acordo os valores observados anteriormente e analisando suas correlações de independências."
   ]
  },
  {
   "cell_type": "markdown",
   "metadata": {
    "id": "GCyIFM2-EnBp"
   },
   "source": [
    "## 4. Treinamento e teste do modelo"
   ]
  },
  {
   "cell_type": "markdown",
   "metadata": {
    "id": "VkZdTzXcEnBp"
   },
   "source": [
    "Crie um subset dos dados apenas com os atributos que serão utilizados para o treinameno e teste do modelo. Divida o subset em conjunto de treinamento e teste."
   ]
  },
  {
   "cell_type": "code",
   "execution_count": 32,
   "metadata": {
    "colab": {
     "base_uri": "https://localhost:8080/"
    },
    "id": "HzfFs5RSEnBp",
    "outputId": "57229ca4-a8f9-4678-ea89-bd07e8692445"
   },
   "outputs": [
    {
     "name": "stdout",
     "output_type": "stream",
     "text": [
      "Formato das tabelas de dados (100, 2) e saidas (100,)\n"
     ]
    }
   ],
   "source": [
    "#Seu Código aqui...\n",
    "\n",
    "# Vamos treinar nosso modelo com 2 dois atributos independentes\n",
    "# X é para predizer o valor de saida ou sejas as variáveis que correlacionam com nosso target\n",
    "X = df[['metros', 'reformado']]\n",
    "#Y é nossa variavél target\n",
    "Y = df['valor']\n",
    "print(f\"Formato das tabelas de dados {X.shape} e saidas {Y.shape}\")"
   ]
  },
  {
   "cell_type": "code",
   "execution_count": 33,
   "metadata": {
    "colab": {
     "base_uri": "https://localhost:8080/"
    },
    "id": "T9azJun2WMGV",
    "outputId": "77f902f6-73ea-4632-b0cc-64e4018e737e"
   },
   "outputs": [
    {
     "name": "stdout",
     "output_type": "stream",
     "text": [
      "(60, 2)\n",
      "(40, 2)\n",
      "(60,)\n",
      "(40,)\n"
     ]
    }
   ],
   "source": [
    "# Separamos 40% para o teste\n",
    "from sklearn.model_selection import train_test_split\n",
    "\n",
    "X_treino, X_teste, Y_treino, Y_teste = train_test_split(X, Y, test_size=0.4)\n",
    "\n",
    "print(X_treino.shape)\n",
    "print(X_teste.shape)\n",
    "print(Y_treino.shape)\n",
    "print(Y_teste.shape)"
   ]
  },
  {
   "cell_type": "code",
   "execution_count": 34,
   "metadata": {
    "colab": {
     "base_uri": "https://localhost:8080/",
     "height": 206
    },
    "id": "O3Pvkw4lWVFi",
    "outputId": "d7fa03ab-370b-4678-868e-16b77b0aa4c6"
   },
   "outputs": [
    {
     "data": {
      "text/html": [
       "<div>\n",
       "<style scoped>\n",
       "    .dataframe tbody tr th:only-of-type {\n",
       "        vertical-align: middle;\n",
       "    }\n",
       "\n",
       "    .dataframe tbody tr th {\n",
       "        vertical-align: top;\n",
       "    }\n",
       "\n",
       "    .dataframe thead th {\n",
       "        text-align: right;\n",
       "    }\n",
       "</style>\n",
       "<table border=\"1\" class=\"dataframe\">\n",
       "  <thead>\n",
       "    <tr style=\"text-align: right;\">\n",
       "      <th></th>\n",
       "      <th>metros</th>\n",
       "      <th>reformado</th>\n",
       "    </tr>\n",
       "  </thead>\n",
       "  <tbody>\n",
       "    <tr>\n",
       "      <th>5</th>\n",
       "      <td>51</td>\n",
       "      <td>0</td>\n",
       "    </tr>\n",
       "    <tr>\n",
       "      <th>4</th>\n",
       "      <td>92</td>\n",
       "      <td>1</td>\n",
       "    </tr>\n",
       "    <tr>\n",
       "      <th>25</th>\n",
       "      <td>62</td>\n",
       "      <td>0</td>\n",
       "    </tr>\n",
       "    <tr>\n",
       "      <th>2</th>\n",
       "      <td>49</td>\n",
       "      <td>0</td>\n",
       "    </tr>\n",
       "    <tr>\n",
       "      <th>42</th>\n",
       "      <td>64</td>\n",
       "      <td>0</td>\n",
       "    </tr>\n",
       "  </tbody>\n",
       "</table>\n",
       "</div>"
      ],
      "text/plain": [
       "    metros  reformado\n",
       "5       51          0\n",
       "4       92          1\n",
       "25      62          0\n",
       "2       49          0\n",
       "42      64          0"
      ]
     },
     "execution_count": 34,
     "metadata": {},
     "output_type": "execute_result"
    }
   ],
   "source": [
    "#Verificando dataset de treino\n",
    "X_treino.head()"
   ]
  },
  {
   "cell_type": "code",
   "execution_count": 35,
   "metadata": {
    "colab": {
     "base_uri": "https://localhost:8080/"
    },
    "id": "V0TbHEMPWVP6",
    "outputId": "649d544b-74ac-4d59-a4bf-7c67366d1052"
   },
   "outputs": [
    {
     "data": {
      "text/plain": [
       "5     249\n",
       "4     560\n",
       "25    330\n",
       "2     196\n",
       "42    315\n",
       "Name: valor, dtype: int64"
      ]
     },
     "execution_count": 35,
     "metadata": {},
     "output_type": "execute_result"
    }
   ],
   "source": [
    "Y_treino.head()"
   ]
  },
  {
   "cell_type": "markdown",
   "metadata": {
    "id": "zAmwkQ8fEnBp"
   },
   "source": [
    "Faça o treinamento e teste dos 2 algoritmos escolhidos. Utilize uma métrica (ex. R2-score, RMSE e MAE...) para avaliar a performance dos modelos."
   ]
  },
  {
   "cell_type": "markdown",
   "metadata": {
    "id": "FIgJ9zIpEnBq"
   },
   "source": [
    "### Algoritmo 1"
   ]
  },
  {
   "cell_type": "code",
   "execution_count": 36,
   "metadata": {
    "colab": {
     "base_uri": "https://localhost:8080/"
    },
    "id": "NHdh-Lw2EnBq",
    "outputId": "bcbe7824-2c8c-44fa-f5c6-fcdf6e8b5142"
   },
   "outputs": [
    {
     "data": {
      "text/plain": [
       "LinearRegression()"
      ]
     },
     "execution_count": 36,
     "metadata": {},
     "output_type": "execute_result"
    }
   ],
   "source": [
    "#Seu Código aqui...\n",
    "\n",
    "#LinearRegression\n",
    "# Importa a biblioteca\n",
    "from sklearn.linear_model import LinearRegression\n",
    "from sklearn.metrics import mean_squared_error\n",
    "\n",
    "# Cria o modelo de regressão \n",
    "lin_model = LinearRegression()\n",
    "\n",
    "# Cria o modelo de machine learning\n",
    "lin_model.fit(X_treino, Y_treino)\n"
   ]
  },
  {
   "cell_type": "code",
   "execution_count": 37,
   "metadata": {
    "colab": {
     "base_uri": "https://localhost:8080/"
    },
    "id": "NkW9e0l9Wnng",
    "outputId": "b44ce2c1-2215-4c0f-e83e-a2b58f2d9282"
   },
   "outputs": [
    {
     "name": "stdout",
     "output_type": "stream",
     "text": [
      "Predição usando regressão, retorna valores continuos: [258.95765623 544.09469795 191.51023784 254.06554528 258.95765623\n",
      " 344.26034819 549.78154409 475.0578092  555.46839022 554.67365503\n",
      " 446.62357855 555.46839022 231.31816076 264.64450236 310.1392714\n",
      " 555.46839022 327.99454498 316.62085272 406.81565563 401.1288095\n",
      " 555.46839022 401.1288095  276.01819462 259.75239141 230.52342557\n",
      " 361.32088658 264.64450236 514.86573212 349.94719432 254.06554528\n",
      " 475.0578092  475.0578092  549.78154409 254.06554528 475.0578092\n",
      " 480.74465533 349.94719432 248.37869915 538.40785182 480.74465533]\n"
     ]
    }
   ],
   "source": [
    "# Para obter as previsões, basta chamar o método predict()\n",
    "y_teste_predito = lin_model.predict(X_teste)\n",
    "print(\"Predição usando regressão, retorna valores continuos: {}\".format(y_teste_predito))\n"
   ]
  },
  {
   "cell_type": "code",
   "execution_count": 38,
   "metadata": {
    "colab": {
     "base_uri": "https://localhost:8080/"
    },
    "id": "QIJl9TptWntR",
    "outputId": "d35085ba-de7b-4032-8840-d3b990228aaa"
   },
   "outputs": [
    {
     "name": "stdout",
     "output_type": "stream",
     "text": [
      "(A) Intercepto:  -53.81888097104502\n",
      "(B) Inclinação:  [5.68684613 0.79473518]\n",
      "Nossa equação é: Y_pred = -53.82 + 5.69 * X_LSTAT + 0.79 * X_RM\n"
     ]
    }
   ],
   "source": [
    "# vamos avaliar os parametros do nosso modelo\n",
    "print('(A) Intercepto: ', lin_model.intercept_)\n",
    "print('(B) Inclinação: ', lin_model.coef_)\n",
    "if len(lin_model.coef_)>1:\n",
    "    print('Nossa equação é: Y_pred = {} + {} * X_LSTAT + {} * X_RM'.format(lin_model.intercept_.round(2),lin_model.coef_[0].round(2),lin_model.coef_[1].round(2)) )\n",
    "else: \n",
    "        print('Nossa equação é: Y_pred = {} + {} * X_LSTAT'.format(lin_model.intercept_.round(2),lin_model.coef_[0].round(2)))\n"
   ]
  },
  {
   "cell_type": "code",
   "execution_count": 39,
   "metadata": {
    "colab": {
     "base_uri": "https://localhost:8080/",
     "height": 296
    },
    "id": "TSkEZJZbW_Jw",
    "outputId": "9502ddb9-38c0-4340-a0ba-f475c64ea7d0"
   },
   "outputs": [
    {
     "data": {
      "text/plain": [
       "Text(0, 0.5, 'Valor Predito')"
      ]
     },
     "execution_count": 39,
     "metadata": {},
     "output_type": "execute_result"
    },
    {
     "data": {
      "image/png": "[encoded data removed]",
      "text/plain": [
       "<Figure size 432x288 with 1 Axes>"
      ]
     },
     "metadata": {
      "needs_background": "light"
     },
     "output_type": "display_data"
    }
   ],
   "source": [
    "plt.scatter(Y_teste,y_teste_predito)\n",
    "plt.xlabel('Valor Real')\n",
    "plt.ylabel('Valor Predito')"
   ]
  },
  {
   "cell_type": "code",
   "execution_count": 40,
   "metadata": {
    "colab": {
     "base_uri": "https://localhost:8080/",
     "height": 265
    },
    "id": "sphUT5E5W_Ns",
    "outputId": "9d8f734e-b72f-4767-dfb8-02ba6ecb81a6"
   },
   "outputs": [
    {
     "data": {
      "image/png": "[encoded data removed]",
      "text/plain": [
       "<Figure size 432x288 with 1 Axes>"
      ]
     },
     "metadata": {
      "needs_background": "light"
     },
     "output_type": "display_data"
    }
   ],
   "source": [
    "# plot prediction and actual data\n",
    "y_teste_predito = lin_model.predict(X_teste)\n",
    "\n",
    "plt.plot(Y_teste, y_teste_predito, '.')\n",
    "\n",
    "# plot a line, a perfit predict would all fall on this line\n",
    "x = np.linspace(0, 50, 100)\n",
    "y = x\n",
    "plt.plot(x, y)\n",
    "plt.show()"
   ]
  },
  {
   "cell_type": "code",
   "execution_count": 41,
   "metadata": {
    "colab": {
     "base_uri": "https://localhost:8080/"
    },
    "id": "_pptOpkLXP9X",
    "outputId": "cd50cb74-102e-44a0-ebd0-4691cb57ad2e"
   },
   "outputs": [
    {
     "name": "stdout",
     "output_type": "stream",
     "text": [
      "Soma dos Erros ao Quadrado (SSE): 144009 \n",
      "Erro Quadrático Médio (MSE): 3600.23\n",
      "Erro Médio Absoluto (MAE): 46.37\n",
      "Raiz do Erro Quadrático Médio (RMSE): 60.00 \n",
      "R2-score: 0.75\n"
     ]
    }
   ],
   "source": [
    "from sklearn.metrics import r2_score, mean_squared_error,mean_absolute_error\n",
    "import numpy as np\n",
    "\n",
    "print(\"Soma dos Erros ao Quadrado (SSE): %2.f \" % np.sum((y_teste_predito - Y_teste)**2))\n",
    "print(\"Erro Quadrático Médio (MSE): %.2f\" % mean_squared_error(Y_teste, y_teste_predito))\n",
    "print(\"Erro Médio Absoluto (MAE): %.2f\" % mean_absolute_error(Y_teste, y_teste_predito))\n",
    "print (\"Raiz do Erro Quadrático Médio (RMSE): %.2f \" % np.sqrt(mean_squared_error(Y_teste, y_teste_predito)))\n",
    "print(\"R2-score: %.2f\" % r2_score(y_teste_predito , Y_teste) )"
   ]
  },
  {
   "cell_type": "code",
   "execution_count": 42,
   "metadata": {
    "colab": {
     "base_uri": "https://localhost:8080/"
    },
    "id": "L9Oskyr_ckmr",
    "outputId": "7f17f4e3-00d2-46a2-b04d-5ffde3a5d963"
   },
   "outputs": [
    {
     "name": "stdout",
     "output_type": "stream",
     "text": [
      "Accuracy: 86.36%\n"
     ]
    }
   ],
   "source": [
    "# Acurácia do modelo:\n",
    "result = lin_model.score(X_treino, Y_treino)\n",
    "print(\"Accuracy: %.2f%%\" % (result*100.0))"
   ]
  },
  {
   "cell_type": "code",
   "execution_count": 43,
   "metadata": {
    "colab": {
     "base_uri": "https://localhost:8080/"
    },
    "id": "rJA29YvNiGBG",
    "outputId": "3245c731-800c-4c20-e8ea-d7430a1295f7"
   },
   "outputs": [
    {
     "name": "stdout",
     "output_type": "stream",
     "text": [
      "Accuracy: 81.02%\n"
     ]
    }
   ],
   "source": [
    "# Acurácia do modelo:\n",
    "result = lin_model.score(X_teste, Y_teste)\n",
    "print(\"Accuracy: %.2f%%\" % (result*100.0))\n"
   ]
  },
  {
   "cell_type": "markdown",
   "metadata": {
    "id": "EKn6sHPLEnBq"
   },
   "source": [
    "### Algoritmo 2"
   ]
  },
  {
   "cell_type": "markdown",
   "metadata": {
    "id": "lAYCrAcXfhgd"
   },
   "source": []
  },
  {
   "cell_type": "code",
   "execution_count": 44,
   "metadata": {
    "colab": {
     "base_uri": "https://localhost:8080/"
    },
    "id": "rhYgY1pAEnBq",
    "outputId": "ca047b04-5d8b-44d0-d379-7df30c3f4df6"
   },
   "outputs": [
    {
     "data": {
      "text/plain": [
       "RandomForestRegressor(max_depth=3, random_state=50)"
      ]
     },
     "execution_count": 44,
     "metadata": {},
     "output_type": "execute_result"
    }
   ],
   "source": [
    "#Seu Código aqui...\n",
    "\n",
    "#Random forest \n",
    "\n",
    "# importando a biblioteca\n",
    "from sklearn.ensemble import RandomForestRegressor\n",
    "\n",
    "# criando objeto do tipo randomforest regressão e calibrando \n",
    "regr2 = RandomForestRegressor(max_depth=3, random_state=50)\n",
    "                             \n",
    "# Treinando X e Y                         \n",
    "regr2.fit(X_treino, Y_treino)\n"
   ]
  },
  {
   "cell_type": "code",
   "execution_count": 45,
   "metadata": {
    "colab": {
     "base_uri": "https://localhost:8080/"
    },
    "id": "dBmeh5rHcZlv",
    "outputId": "af51754c-28fa-4289-fd37-d3e02a529d8f"
   },
   "outputs": [
    {
     "name": "stdout",
     "output_type": "stream",
     "text": [
      "Predição usando regressão, retorna valores continuos: [239.46174155 526.19028828 214.95786135 226.81996002 239.46174155\n",
      " 325.08862197 592.17469738 497.35035724 584.03969738 583.801687\n",
      " 498.28982122 584.03969738 214.76286135 240.02357488 306.95477479\n",
      " 584.03969738 322.04954749 321.51154749 431.37723269 426.08086905\n",
      " 584.03969738 426.08086905 241.06892761 226.81996002 226.96089287\n",
      " 322.44407316 240.02357488 503.34101536 326.19248849 226.81996002\n",
      " 497.35035724 497.35035724 592.17469738 226.81996002 497.35035724\n",
      " 497.35035724 326.19248849 226.10619934 526.19028828 497.35035724]\n"
     ]
    }
   ],
   "source": [
    "# Para obter as previsões, basta chamar o método predict()    #Testar o Classificador\n",
    "y_teste_predito = regr2.predict(X_teste)\n",
    "print(\"Predição usando regressão, retorna valores continuos: {}\".format(y_teste_predito))"
   ]
  },
  {
   "cell_type": "code",
   "execution_count": 46,
   "metadata": {
    "colab": {
     "base_uri": "https://localhost:8080/"
    },
    "id": "WRWA0QubcZuY",
    "outputId": "8b6d950e-56e6-45fb-8026-19387f583ffd"
   },
   "outputs": [
    {
     "name": "stdout",
     "output_type": "stream",
     "text": [
      "Soma dos Erros ao Quadrado (SSE): 149628 \n",
      "Erro Quadrático Médio (MSE): 3740.71\n",
      "Erro Médio Absoluto (MAE): 48.34\n",
      "Raiz do Erro Quadrático Médio (RMSE): 61.16 \n",
      "R2-score: 0.81\n"
     ]
    }
   ],
   "source": [
    "from sklearn.metrics import r2_score, mean_squared_error,mean_absolute_error\n",
    "import numpy as np\n",
    "\n",
    "print(\"Soma dos Erros ao Quadrado (SSE): %2.f \" % np.sum((y_teste_predito - Y_teste)**2))\n",
    "print(\"Erro Quadrático Médio (MSE): %.2f\" % mean_squared_error(Y_teste, y_teste_predito))\n",
    "print(\"Erro Médio Absoluto (MAE): %.2f\" % mean_absolute_error(Y_teste, y_teste_predito))\n",
    "print (\"Raiz do Erro Quadrático Médio (RMSE): %.2f \" % np.sqrt(mean_squared_error(Y_teste, y_teste_predito)))\n",
    "print(\"R2-score: %.2f\" % r2_score(y_teste_predito , Y_teste) )"
   ]
  },
  {
   "cell_type": "code",
   "execution_count": 47,
   "metadata": {
    "colab": {
     "base_uri": "https://localhost:8080/"
    },
    "id": "q-A_SV0mcZwf",
    "outputId": "3b410c6e-c542-410f-a9fa-3b3d5c634365"
   },
   "outputs": [
    {
     "name": "stdout",
     "output_type": "stream",
     "text": [
      "Accuracy: 92.92%\n"
     ]
    }
   ],
   "source": [
    "# Acurácia do modelo:\n",
    "result = regr2.score(X_treino, Y_treino)\n",
    "print(\"Accuracy: %.2f%%\" % (result*100.0))"
   ]
  },
  {
   "cell_type": "code",
   "execution_count": 48,
   "metadata": {
    "colab": {
     "base_uri": "https://localhost:8080/"
    },
    "id": "U9xWNfoQywPQ",
    "outputId": "89f391fc-7aac-418f-99e9-3857a8d28e3c"
   },
   "outputs": [
    {
     "name": "stdout",
     "output_type": "stream",
     "text": [
      "Accuracy: 80.28%\n"
     ]
    }
   ],
   "source": [
    "# Acurácia do modelo:\n",
    "result = regr2.score(X_teste, Y_teste)\n",
    "print(\"Accuracy: %.2f%%\" % (result*100.0))\n"
   ]
  },
  {
   "cell_type": "code",
   "execution_count": 49,
   "metadata": {
    "colab": {
     "base_uri": "https://localhost:8080/",
     "height": 296
    },
    "id": "d47v1xgXqDRB",
    "outputId": "8e915887-65f3-4621-a883-8be8d78de03e"
   },
   "outputs": [
    {
     "data": {
      "text/plain": [
       "Text(0, 0.5, 'Valor Predito')"
      ]
     },
     "execution_count": 49,
     "metadata": {},
     "output_type": "execute_result"
    },
    {
     "data": {
      "image/png": "[encoded data removed]",
      "text/plain": [
       "<Figure size 432x288 with 1 Axes>"
      ]
     },
     "metadata": {
      "needs_background": "light"
     },
     "output_type": "display_data"
    }
   ],
   "source": [
    "plt.scatter(Y_teste,y_teste_predito)\n",
    "plt.xlabel('Valor Real')\n",
    "plt.ylabel('Valor Predito')"
   ]
  },
  {
   "cell_type": "code",
   "execution_count": 50,
   "metadata": {
    "colab": {
     "base_uri": "https://localhost:8080/",
     "height": 265
    },
    "id": "qBvJ9t0Ndgnb",
    "outputId": "d3fa3c63-4ddb-4c10-e61b-eb240698a292"
   },
   "outputs": [
    {
     "data": {
      "image/png": "[encoded data removed]",
      "text/plain": [
       "<Figure size 432x288 with 1 Axes>"
      ]
     },
     "metadata": {
      "needs_background": "light"
     },
     "output_type": "display_data"
    }
   ],
   "source": [
    "# plot prediction and actual data\n",
    "y_teste_predito = regr2.predict(X_teste)\n",
    "\n",
    "plt.plot(Y_teste, y_teste_predito, '.')\n",
    "\n",
    "# plot a line, a perfit predict would all fall on this line\n",
    "x = np.linspace(0, 50, 100)\n",
    "y = x\n",
    "plt.plot(x, y)\n",
    "plt.show()"
   ]
  },
  {
   "cell_type": "markdown",
   "metadata": {
    "id": "iMhimFG6EnBq"
   },
   "source": [
    "Sumarize na tabela abaixo os resultados obtidos para os conjuntos de dados de treino e de teste"
   ]
  },
  {
   "cell_type": "markdown",
   "metadata": {
    "id": "Emdn0twUEnBr"
   },
   "source": [
    "**Resposta:**\n",
    "\n",
    "|    | LinearRegression | RandomForest  |\n",
    "|:---:|:---:|:---:|\n",
    "| treino | 83.86% | 90.32% |\n",
    "| teste  | 85.18% | 85.27% |"
   ]
  },
  {
   "cell_type": "markdown",
   "metadata": {
    "id": "6GRyUOHQEnBr"
   },
   "source": [
    "**Pergunta:** Qual dos algoritmos obteve um resultado melhor? Justifique\n",
    "\n",
    "**Resposta:** O Algoritmo RandomForest, pois ele foi testando o \"melhor caminho\" possível com base nos conjuntos de dados passados."
   ]
  },
  {
   "cell_type": "markdown",
   "metadata": {
    "id": "CSV86VhSEnBr"
   },
   "source": [
    "## Modelo de produção: Teste com novos dados\n",
    "\n",
    "Use seu modelo treinado para determinar: \n",
    "\n",
    "**`Quanto vale um apartamento de 65m2 com 2 quartos, 2 vagas, reformado no Centro?`**"
   ]
  },
  {
   "cell_type": "code",
   "execution_count": 51,
   "metadata": {
    "id": "P4sdQlfkX7wo"
   },
   "outputs": [],
   "source": [
    "#Criando uma lista com os valores desejados \n",
    "Prever_Valor_Apartamento =  ['65.2', 2, 2, 1]"
   ]
  },
  {
   "cell_type": "code",
   "execution_count": 52,
   "metadata": {
    "id": "zMdWbcD7aqBm"
   },
   "outputs": [],
   "source": [
    "#Passando os valores no dataset\n",
    "df_Prever_Valor_Apartamento = pd.DataFrame([Prever_Valor_Apartamento] , columns = (['metros', 'quartos', 'vagas','reformado']))"
   ]
  },
  {
   "cell_type": "code",
   "execution_count": 53,
   "metadata": {
    "id": "_1sU_rHNTjjW"
   },
   "outputs": [],
   "source": [
    "#Criando nosso X_treino\n",
    "X_df_Prever_Valor_Apartamento = df_Prever_Valor_Apartamento[['metros', 'reformado']]"
   ]
  },
  {
   "cell_type": "code",
   "execution_count": 56,
   "metadata": {},
   "outputs": [
    {
     "name": "stdout",
     "output_type": "stream",
     "text": [
      "Predição usando regressão, retorna valores continuos: [317.75822195]\n"
     ]
    }
   ],
   "source": [
    "#Implementando modelo de regressão na nova base de dados\n",
    "y_teste_predito_novo = lin_model.predict(X_df_Prever_Valor_Apartamento)\n",
    "print(\"Predição usando regressão, retorna valores continuos: {}\".format(y_teste_predito_novo))"
   ]
  },
  {
   "cell_type": "markdown",
   "metadata": {
    "id": "yVENZQKIa1K1"
   },
   "source": [
    "O valor predito é de 317.758"
   ]
  },
  {
   "cell_type": "markdown",
   "metadata": {
    "id": "E63qRRafEnBs"
   },
   "source": [
    "## 5. Conclusões finais\n",
    "\n",
    "Ufa!!... Chegamos ao final. Parabéns! De forma simplificada e completa, passamos por todas as etapas de um projeto de aprendizado de maquina. Outras etapas podem ser adicionadas no tratamento dos dados e desenvolvimento do modelo.\n"
   ]
  },
  {
   "cell_type": "markdown",
   "metadata": {
    "id": "FDQj8s1BEnBs"
   },
   "source": [
    "**Pergunta:**: O modelo desenvolvido obteve um resultado satisfatório? Justifique:\n",
    "\n",
    "**Resposta**: Sim, pois a acurácia do modelo é alta o suficiente para conseguir prever possíveis valores"
   ]
  },
  {
   "cell_type": "markdown",
   "metadata": {
    "id": "fGAi3gxnEnBs"
   },
   "source": [
    "**Pergunta:**: O que faria diferente para melhorar resultado obtido? Justifique:\n",
    "\n",
    "**Resposta**: Poderiamos, aumentar nossa base de treino (x_treino) para que o algotítmo calibre melhor o seu resultado, uma outra possível solução, seria aumentar o número de teste do nosso modelo.\n",
    "\n",
    "\n",
    "\n",
    "\n"
   ]
  }
 ],
 "metadata": {
  "colab": {
   "collapsed_sections": [],
   "name": "CheckPoint.ipynb",
   "provenance": []
  },
  "interpreter": {
   "hash": "916dbcbb3f70747c44a77c7bcd40155683ae19c65e1c03b4aa3499c5328201f1"
  },
  "kernelspec": {
   "display_name": "Python 3",
   "language": "python",
   "name": "python3"
  }
 },
 "nbformat": 4,
 "nbformat_minor": 1
}
